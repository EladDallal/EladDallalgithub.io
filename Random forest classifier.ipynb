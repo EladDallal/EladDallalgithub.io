{
 "cells": [
  {
   "cell_type": "code",
   "execution_count": 5,
   "id": "656bbce4",
   "metadata": {},
   "outputs": [
    {
     "name": "stdout",
     "output_type": "stream",
     "text": [
      "0.9345327336331835\n",
      "Execution time in seconds: 5.998759984970093\n"
     ]
    }
   ],
   "source": [
    "import pandas as pd\n",
    "import numpy as np\n",
    "import time\n",
    "from sklearn.ensemble import RandomForestClassifier\n",
    "from sklearn.model_selection import train_test_split\n",
    "from sklearn.metrics import accuracy_score\n",
    "\n",
    "startTime = time.time()\n",
    "\n",
    "\n",
    "df = pd.read_csv('mnist_train.csv')\n",
    "df.drop(df.index[10001:60000], inplace=True)\n",
    "x = df.drop(columns=['label'])\n",
    "y = df['label']\n",
    "\n",
    "x_train, x_test, y_train, y_test = train_test_split(x, y, test_size = 0.2)\n",
    "\n",
    "model = RandomForestClassifier(random_state=42, max_depth=10, warm_start=True)\n",
    "model.fit(x_train, y_train)\n",
    "\n",
    "predictions = model.predict(x_test)\n",
    "score = accuracy_score(y_test, predictions)\n",
    "\n",
    "endTime = time.time()\n",
    "\n",
    "print (score)\n",
    "print('Execution time in seconds: ' + str(endTime-startTime))"
   ]
  },
  {
   "cell_type": "code",
   "execution_count": 6,
   "id": "2fbf1665",
   "metadata": {},
   "outputs": [],
   "source": [
    "%matplotlib inline\n",
    "import itertools\n",
    "import matplotlib.pyplot as plt\n",
    "from sklearn.metrics import confusion_matrix, classification_report\n",
    "import warnings\n",
    "warnings.filterwarnings('ignore')\n",
    "import itertools"
   ]
  },
  {
   "cell_type": "code",
   "execution_count": 7,
   "id": "57ed0f6d",
   "metadata": {},
   "outputs": [],
   "source": [
    "answer = [1, 0, 9, 3, 4, 5, 7, 8, 4, 6, 7, 8, 3, 2, 1, 3, 0, 9, 3, 4, 5, 7, 8, 4, 6, 7, 8, 3, 2, 1]\n",
    "\n",
    "prediction = [7, 0, 9, 8, 4, 5, 7, 8, 4, 6, 7, 8, 8, 3, 1, 3, 0, 0, 3, 4, 5, 1, 8, 4, 6, 7, 8, 3, 5, 1]\n",
    "\n",
    "classes = [0, 1, 2, 3, 4, 5, 6, 7, 8, 9]"
   ]
  },
  {
   "cell_type": "code",
   "execution_count": 8,
   "id": "18bc75f5",
   "metadata": {},
   "outputs": [],
   "source": [
    "def plot_confusion_matrix(cm, classes,\n",
    "                        normalize=False,\n",
    "                        title='Confusion matrix',\n",
    "                        cmap=plt.cm.Blues):\n",
    "    \"\"\"\n",
    "    This function prints and plots the confusion matrix.\n",
    "    Normalization can be applied by setting `normalize=True`.\n",
    "    \"\"\"\n",
    "    plt.imshow(cm, interpolation='nearest', cmap=cmap)\n",
    "    plt.title(title)\n",
    "    plt.colorbar()\n",
    "#     tick_marks = np.arange(len(classes))\n",
    "#     plt.xticks(tick_marks, classes, rotation=45)\n",
    "#     plt.yticks(tick_marks, classes)\n",
    "\n",
    "    if normalize:\n",
    "        cm = cm.astype('float') / cm.sum(axis=1)[:, np.newaxis]\n",
    "        print(\"Normalized confusion matrix\")\n",
    "    else:\n",
    "        print('Confusion matrix, without normalization')\n",
    "\n",
    "    print(cm)\n",
    "\n",
    "    thresh = cm.max() / 2.\n",
    "    for i, j in itertools.product(range(cm.shape[0]), range(cm.shape[1])):\n",
    "        plt.text(j, i, cm[i, j],\n",
    "            horizontalalignment=\"center\",\n",
    "            color=\"white\" if cm[i, j] > thresh else \"black\")\n",
    "\n",
    "    plt.tight_layout()\n",
    "    plt.ylabel('True label')\n",
    "    plt.xlabel('Predicted label')"
   ]
  },
  {
   "cell_type": "code",
   "execution_count": 9,
   "id": "31613308",
   "metadata": {},
   "outputs": [],
   "source": [
    "cm = confusion_matrix(y_true=y_test, y_pred=predictions)"
   ]
  },
  {
   "cell_type": "code",
   "execution_count": 10,
   "id": "e09cac3f",
   "metadata": {},
   "outputs": [
    {
     "name": "stdout",
     "output_type": "stream",
     "text": [
      "              precision    recall  f1-score   support\n",
      "\n",
      "           0       0.95      0.98      0.97       205\n",
      "           1       0.95      0.98      0.97       238\n",
      "           2       0.94      0.93      0.94       209\n",
      "           3       0.90      0.88      0.89       199\n",
      "           4       0.90      0.93      0.92       182\n",
      "           5       0.94      0.92      0.93       157\n",
      "           6       0.95      0.99      0.97       200\n",
      "           7       0.97      0.92      0.94       236\n",
      "           8       0.95      0.86      0.90       181\n",
      "           9       0.88      0.93      0.91       194\n",
      "\n",
      "    accuracy                           0.93      2001\n",
      "   macro avg       0.93      0.93      0.93      2001\n",
      "weighted avg       0.94      0.93      0.93      2001\n",
      "\n",
      "Confusion matrix, without normalization\n",
      "[[201   0   0   0   1   0   2   0   1   0]\n",
      " [  0 233   1   0   1   1   1   0   1   0]\n",
      " [  2   1 195   4   1   0   1   2   3   0]\n",
      " [  0   3   5 176   0   7   0   3   1   4]\n",
      " [  1   1   1   0 170   0   1   1   0   7]\n",
      " [  1   1   1   3   1 145   2   0   1   2]\n",
      " [  1   0   1   0   0   0 198   0   0   0]\n",
      " [  1   4   2   0   4   0   0 216   2   7]\n",
      " [  0   1   1   8   6   2   2   1 155   5]\n",
      " [  4   0   0   4   4   0   1   0   0 181]]\n"
     ]
    },
    {
     "data": {
      "image/png": "[encoded data removed]",
      "text/plain": [
       "<Figure size 432x288 with 2 Axes>"
      ]
     },
     "metadata": {
      "needs_background": "light"
     },
     "output_type": "display_data"
    }
   ],
   "source": [
    "print(classification_report(y_test, predictions))\n",
    "plot_confusion_matrix(cm=cm, classes=classes, title='Confusion Matrix')"
   ]
  },
  {
   "cell_type": "code",
   "execution_count": null,
   "id": "61725cff",
   "metadata": {},
   "outputs": [],
   "source": []
  }
 ],
 "metadata": {
  "kernelspec": {
   "display_name": "Python 3",
   "language": "python",
   "name": "python3"
  },
  "language_info": {
   "codemirror_mode": {
    "name": "ipython",
    "version": 3
   },
   "file_extension": ".py",
   "mimetype": "text/x-python",
   "name": "python",
   "nbconvert_exporter": "python",
   "pygments_lexer": "ipython3",
   "version": "3.8.8"
  }
 },
 "nbformat": 4,
 "nbformat_minor": 5
}
