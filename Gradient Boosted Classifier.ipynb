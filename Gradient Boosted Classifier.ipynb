{
 "cells": [
  {
   "cell_type": "code",
   "execution_count": 6,
   "id": "bb69818a",
   "metadata": {},
   "outputs": [
    {
     "name": "stdout",
     "output_type": "stream",
     "text": [
      "0.9120439780109945\n",
      "Execution time in seconds: 238.15250205993652\n"
     ]
    }
   ],
   "source": [
    "import pandas as pd\n",
    "import numpy as np\n",
    "import time\n",
    "from sklearn.ensemble import GradientBoostingClassifier\n",
    "from sklearn.model_selection import train_test_split\n",
    "from sklearn.metrics import accuracy_score\n",
    "\n",
    "startTime = time.time()\n",
    "\n",
    "\n",
    "df = pd.read_csv('mnist_train.csv')\n",
    "df.drop(df.index[10001:60000], inplace=True)\n",
    "x = df.drop(columns=['label'])\n",
    "y = df['label']\n",
    "\n",
    "x_train, x_test, y_train, y_test = train_test_split(x, y, test_size = 0.2)\n",
    "\n",
    "model = GradientBoostingClassifier(random_state=42, max_depth=3, warm_start=True)\n",
    "model.fit(x_train, y_train)\n",
    "\n",
    "predictions = model.predict(x_test)\n",
    "score = accuracy_score(y_test, predictions)\n",
    "\n",
    "endTime = time.time()\n",
    "\n",
    "print (score)\n",
    "print('Execution time in seconds: ' + str(endTime-startTime))"
   ]
  },
  {
   "cell_type": "code",
   "execution_count": 12,
   "id": "336ce690",
   "metadata": {},
   "outputs": [],
   "source": [
    "%matplotlib inline\n",
    "import itertools\n",
    "import matplotlib.pyplot as plt\n",
    "from sklearn.metrics import confusion_matrix, classification_report\n",
    "import warnings\n",
    "warnings.filterwarnings('ignore')\n",
    "import itertools"
   ]
  },
  {
   "cell_type": "code",
   "execution_count": 13,
   "id": "8adde36f",
   "metadata": {},
   "outputs": [],
   "source": [
    "answer = [1, 0, 9, 3, 4, 5, 7, 8, 4, 6, 7, 8, 3, 2, 1, 3, 0, 9, 3, 4, 5, 7, 8, 4, 6, 7, 8, 3, 2, 1]\n",
    "\n",
    "prediction = [7, 0, 9, 8, 4, 5, 7, 8, 4, 6, 7, 8, 8, 3, 1, 3, 0, 0, 3, 4, 5, 1, 8, 4, 6, 7, 8, 3, 5, 1]\n",
    "\n",
    "classes = [0, 1, 2, 3, 4, 5, 6, 7, 8, 9]"
   ]
  },
  {
   "cell_type": "code",
   "execution_count": 14,
   "id": "21909e27",
   "metadata": {},
   "outputs": [],
   "source": [
    "def plot_confusion_matrix(cm, classes,\n",
    "                        normalize=False,\n",
    "                        title='Confusion matrix',\n",
    "                        cmap=plt.cm.Blues):\n",
    "    \"\"\"\n",
    "    This function prints and plots the confusion matrix.\n",
    "    Normalization can be applied by setting `normalize=True`.\n",
    "    \"\"\"\n",
    "    plt.imshow(cm, interpolation='nearest', cmap=cmap)\n",
    "    plt.title(title)\n",
    "    plt.colorbar()\n",
    "#     tick_marks = np.arange(len(classes))\n",
    "#     plt.xticks(tick_marks, classes, rotation=45)\n",
    "#     plt.yticks(tick_marks, classes)\n",
    "\n",
    "    if normalize:\n",
    "        cm = cm.astype('float') / cm.sum(axis=1)[:, np.newaxis]\n",
    "        print(\"Normalized confusion matrix\")\n",
    "    else:\n",
    "        print('Confusion matrix, without normalization')\n",
    "\n",
    "    print(cm)\n",
    "\n",
    "    thresh = cm.max() / 2.\n",
    "    for i, j in itertools.product(range(cm.shape[0]), range(cm.shape[1])):\n",
    "        plt.text(j, i, cm[i, j],\n",
    "            horizontalalignment=\"center\",\n",
    "            color=\"white\" if cm[i, j] > thresh else \"black\")\n",
    "\n",
    "    plt.tight_layout()\n",
    "    plt.ylabel('True label')\n",
    "    plt.xlabel('Predicted label')"
   ]
  },
  {
   "cell_type": "code",
   "execution_count": 15,
   "id": "4bfffa34",
   "metadata": {},
   "outputs": [],
   "source": [
    "cm = confusion_matrix(y_true=y_test, y_pred=predictions)"
   ]
  },
  {
   "cell_type": "code",
   "execution_count": 16,
   "id": "34205b9d",
   "metadata": {},
   "outputs": [
    {
     "name": "stdout",
     "output_type": "stream",
     "text": [
      "              precision    recall  f1-score   support\n",
      "\n",
      "           0       0.96      0.96      0.96       215\n",
      "           1       0.96      0.98      0.97       237\n",
      "           2       0.85      0.90      0.88       176\n",
      "           3       0.93      0.83      0.88       207\n",
      "           4       0.92      0.92      0.92       203\n",
      "           5       0.86      0.88      0.87       152\n",
      "           6       0.95      0.93      0.94       200\n",
      "           7       0.93      0.92      0.93       212\n",
      "           8       0.90      0.87      0.89       207\n",
      "           9       0.84      0.90      0.87       192\n",
      "\n",
      "    accuracy                           0.91      2001\n",
      "   macro avg       0.91      0.91      0.91      2001\n",
      "weighted avg       0.91      0.91      0.91      2001\n",
      "\n",
      "Confusion matrix, without normalization\n",
      "[[206   0   2   0   1   2   0   0   4   0]\n",
      " [  0 232   1   1   0   1   0   0   1   1]\n",
      " [  3   2 159   1   2   1   4   0   3   1]\n",
      " [  0   0   8 171   1   8   1   8   8   2]\n",
      " [  0   0   1   0 187   0   0   0   2  13]\n",
      " [  1   1   1   4   1 134   4   0   1   5]\n",
      " [  1   0   3   0   2   6 186   0   2   0]\n",
      " [  0   2   3   0   6   0   0 196   0   5]\n",
      " [  1   4   6   4   0   3   1   1 181   6]\n",
      " [  3   1   2   2   4   1   0   6   0 173]]\n"
     ]
    },
    {
     "data": {
      "image/png": "[encoded data removed]",
      "text/plain": [
       "<Figure size 432x288 with 2 Axes>"
      ]
     },
     "metadata": {
      "needs_background": "light"
     },
     "output_type": "display_data"
    }
   ],
   "source": [
    "print(classification_report(y_test, predictions))\n",
    "plot_confusion_matrix(cm=cm, classes=classes, title='Confusion Matrix')"
   ]
  },
  {
   "cell_type": "code",
   "execution_count": null,
   "id": "d5528df9",
   "metadata": {},
   "outputs": [],
   "source": []
  }
 ],
 "metadata": {
  "kernelspec": {
   "display_name": "Python 3",
   "language": "python",
   "name": "python3"
  },
  "language_info": {
   "codemirror_mode": {
    "name": "ipython",
    "version": 3
   },
   "file_extension": ".py",
   "mimetype": "text/x-python",
   "name": "python",
   "nbconvert_exporter": "python",
   "pygments_lexer": "ipython3",
   "version": "3.8.8"
  }
 },
 "nbformat": 4,
 "nbformat_minor": 5
}
