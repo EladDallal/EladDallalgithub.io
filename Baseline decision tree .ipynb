{
 "cells": [
  {
   "cell_type": "code",
   "execution_count": 13,
   "id": "5089e8ab",
   "metadata": {},
   "outputs": [
    {
     "name": "stdout",
     "output_type": "stream",
     "text": [
      "0.8641666666666666\n",
      "Execution time in seconds: 19.697920083999634\n"
     ]
    }
   ],
   "source": [
    "import pandas as pd\n",
    "import numpy as np\n",
    "import time\n",
    "from sklearn.tree import DecisionTreeClassifier\n",
    "from sklearn.model_selection import train_test_split\n",
    "from sklearn.metrics import accuracy_score\n",
    "\n",
    "startTime = time.time()\n",
    "\n",
    "\n",
    "df = pd.read_csv('mnist_train.csv')\n",
    "X = df.drop(columns=['label'])\n",
    "y = df['label']\n",
    "\n",
    "\n",
    "#df.drop(df.index[500:59000], inplace=True)\n",
    "\n",
    "X_train, X_test, y_train, y_test = train_test_split(X, y, test_size = 0.2)\n",
    "\n",
    "model = DecisionTreeClassifier() \n",
    "model.fit(X_train, y_train)\n",
    "predictions = model.predict(X_test)\n",
    "\n",
    "\n",
    "score = accuracy_score(y_test, predictions)\n",
    "\n",
    "endTime = time.time()\n",
    "\n",
    "\n",
    "print (score)\n",
    "print('Execution time in seconds: ' + str(endTime-startTime))"
   ]
  },
  {
   "cell_type": "code",
   "execution_count": 14,
   "id": "ebae116f",
   "metadata": {},
   "outputs": [],
   "source": [
    "%matplotlib inline\n",
    "import itertools\n",
    "import matplotlib.pyplot as plt\n",
    "from sklearn.metrics import confusion_matrix, classification_report\n",
    "import warnings\n",
    "warnings.filterwarnings('ignore')\n",
    "import itertools"
   ]
  },
  {
   "cell_type": "code",
   "execution_count": 15,
   "id": "bc47d721",
   "metadata": {},
   "outputs": [],
   "source": [
    "answer = [1, 0, 9, 3, 4, 5, 7, 8, 4, 6, 7, 8, 3, 2, 1, 3, 0, 9, 3, 4, 5, 7, 8, 4, 6, 7, 8, 3, 2, 1]\n",
    "\n",
    "prediction = [7, 0, 9, 8, 4, 5, 7, 8, 4, 6, 7, 8, 8, 3, 1, 3, 0, 0, 3, 4, 5, 1, 8, 4, 6, 7, 8, 3, 5, 1]\n",
    "\n",
    "classes = [0, 1, 2, 3, 4, 5, 6, 7, 8, 9]"
   ]
  },
  {
   "cell_type": "code",
   "execution_count": 16,
   "id": "0deca787",
   "metadata": {},
   "outputs": [],
   "source": [
    "def plot_confusion_matrix(cm, classes,\n",
    "                        normalize=False,\n",
    "                        title='Confusion matrix',\n",
    "                        cmap=plt.cm.Blues):\n",
    "    \"\"\"\n",
    "    This function prints and plots the confusion matrix.\n",
    "    Normalization can be applied by setting `normalize=True`.\n",
    "    \"\"\"\n",
    "    plt.imshow(cm, interpolation='nearest', cmap=cmap)\n",
    "    plt.title(title)\n",
    "    plt.colorbar()\n",
    "#     tick_marks = np.arange(len(classes))\n",
    "#     plt.xticks(tick_marks, classes, rotation=45)\n",
    "#     plt.yticks(tick_marks, classes)\n",
    "\n",
    "    if normalize:\n",
    "        cm = cm.astype('float') / cm.sum(axis=1)[:, np.newaxis]\n",
    "        print(\"Normalized confusion matrix\")\n",
    "    else:\n",
    "        print('Confusion matrix, without normalization')\n",
    "\n",
    "    print(cm)\n",
    "\n",
    "    thresh = cm.max() / 2.\n",
    "    for i, j in itertools.product(range(cm.shape[0]), range(cm.shape[1])):\n",
    "        plt.text(j, i, cm[i, j],\n",
    "            horizontalalignment=\"center\",\n",
    "            color=\"white\" if cm[i, j] > thresh else \"black\")\n",
    "\n",
    "    plt.tight_layout()\n",
    "    plt.ylabel('True label')\n",
    "    plt.xlabel('Predicted label')"
   ]
  },
  {
   "cell_type": "code",
   "execution_count": 17,
   "id": "d04da6d9",
   "metadata": {},
   "outputs": [],
   "source": [
    "cm = confusion_matrix(y_true=y_test, y_pred=predictions)"
   ]
  },
  {
   "cell_type": "code",
   "execution_count": 18,
   "id": "82f1ea2a",
   "metadata": {},
   "outputs": [
    {
     "name": "stdout",
     "output_type": "stream",
     "text": [
      "              precision    recall  f1-score   support\n",
      "\n",
      "           0       0.93      0.92      0.92      1178\n",
      "           1       0.94      0.95      0.95      1363\n",
      "           2       0.87      0.83      0.85      1234\n",
      "           3       0.82      0.81      0.82      1248\n",
      "           4       0.86      0.84      0.85      1141\n",
      "           5       0.82      0.81      0.81      1090\n",
      "           6       0.89      0.89      0.89      1146\n",
      "           7       0.89      0.90      0.89      1214\n",
      "           8       0.79      0.82      0.81      1205\n",
      "           9       0.83      0.84      0.83      1181\n",
      "\n",
      "    accuracy                           0.86     12000\n",
      "   macro avg       0.86      0.86      0.86     12000\n",
      "weighted avg       0.86      0.86      0.86     12000\n",
      "\n",
      "Confusion matrix, without normalization\n",
      "[[1078    2   16   10    5   16   15   14   16    6]\n",
      " [   1 1299   11   10    5    8    3    3   18    5]\n",
      " [   7   19 1029   49   19   15   20   25   35   16]\n",
      " [   5   10   28 1015    5   63   12   20   64   26]\n",
      " [   6    6   17   14  963   14   18   28   25   50]\n",
      " [  23    9   12   35   13  880   29   14   41   34]\n",
      " [  18    4   17    7   19   22 1025    2   24    8]\n",
      " [   3    6   26   23   13    8    2 1094   12   27]\n",
      " [   9   19   25   50   12   38   21    3  991   37]\n",
      " [   9    9    6   22   62   15    3   30   29  996]]\n"
     ]
    },
    {
     "data": {
      "image/png": "[encoded data removed]",
      "text/plain": [
       "<Figure size 432x288 with 2 Axes>"
      ]
     },
     "metadata": {
      "needs_background": "light"
     },
     "output_type": "display_data"
    }
   ],
   "source": [
    "print(classification_report(y_test, predictions))\n",
    "plot_confusion_matrix(cm=cm, classes=classes, title='Confusion Matrix')"
   ]
  },
  {
   "cell_type": "code",
   "execution_count": null,
   "id": "f4fc7825",
   "metadata": {},
   "outputs": [],
   "source": []
  }
 ],
 "metadata": {
  "kernelspec": {
   "display_name": "Python 3",
   "language": "python",
   "name": "python3"
  },
  "language_info": {
   "codemirror_mode": {
    "name": "ipython",
    "version": 3
   },
   "file_extension": ".py",
   "mimetype": "text/x-python",
   "name": "python",
   "nbconvert_exporter": "python",
   "pygments_lexer": "ipython3",
   "version": "3.8.8"
  }
 },
 "nbformat": 4,
 "nbformat_minor": 5
}
